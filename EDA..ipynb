{
 "cells": [
  {
   "cell_type": "code",
   "execution_count": 1,
   "id": "a778e09b",
   "metadata": {},
   "outputs": [],
   "source": [
    "import pandas as pd;"
   ]
  },
  {
   "cell_type": "code",
   "execution_count": 2,
   "id": "30acd5c5",
   "metadata": {},
   "outputs": [],
   "source": [
    "df=pd.read_csv(\"D:\\Toyota.csv\");"
   ]
  },
  {
   "cell_type": "code",
   "execution_count": 3,
   "id": "1f3efc78",
   "metadata": {},
   "outputs": [
    {
     "name": "stdout",
     "output_type": "stream",
     "text": [
      "350\n",
      "(1436, 10)\n"
     ]
    }
   ],
   "source": [
    "df=pd.read_csv(\"D:\\Toyota.csv\" ,index_col=0)\n",
    "print(df.isnull().sum().sum())\n",
    "print(df.shape)"
   ]
  },
  {
   "cell_type": "code",
   "execution_count": 4,
   "id": "99d3dc60",
   "metadata": {},
   "outputs": [],
   "source": [
    "# importing data \n",
    "cars_data=pd.read_csv(\"D:\\Toyota.csv\" ,index_col=0,na_values=[\"?\",\"???\"])"
   ]
  },
  {
   "cell_type": "code",
   "execution_count": 5,
   "id": "9fecc25c",
   "metadata": {},
   "outputs": [],
   "source": [
    "# Creating copy of original data \n",
    "cars_data2= cars_data.copy()\n"
   ]
  },
  {
   "cell_type": "code",
   "execution_count": 6,
   "id": "217cbe3f",
   "metadata": {},
   "outputs": [],
   "source": [
    "# Frequency table : you have the corresponding categories under the variable fueal type \n",
    "Frequency_table = pd.crosstab(index=cars_data2['FuelType'], columns='count',dropna=True )"
   ]
  },
  {
   "cell_type": "code",
   "execution_count": 7,
   "id": "85a3e0b5",
   "metadata": {},
   "outputs": [
    {
     "name": "stdout",
     "output_type": "stream",
     "text": [
      "col_0     count\n",
      "FuelType       \n",
      "CNG          15\n",
      "Diesel      144\n",
      "Petrol     1177\n"
     ]
    }
   ],
   "source": [
    "print(Frequency_table)"
   ]
  },
  {
   "cell_type": "markdown",
   "id": "de19f711",
   "metadata": {},
   "source": [
    "# From the above output :\n",
    " CNG: There are 15 cars that use CNG as their fuel type. This is a very small proportion of the dataset, indicating that CNG is not a common fuel type among the cars in this dataset.\n",
    " \n",
    "#Diesel: There are 144 cars that use diesel as their fuel type. This represents a moderate proportion of the dataset, suggesting that diesel cars are somewhat common.\n",
    "\n",
    "#Petrol: There are 1177 cars that use petrol as their fuel type. This is the majority fuel type in the dataset, indicating that petrol is the most common fuel type among the cars.\n",
    "    "
   ]
  },
  {
   "cell_type": "code",
   "execution_count": 8,
   "id": "f5f63b28",
   "metadata": {},
   "outputs": [],
   "source": [
    "# Frequency distribution of gearbox types with respect to different fueal type of the car \n",
    "automatic_fuel_type_crosstab = pd.crosstab(\n",
    "    index=cars_data2['Automatic'],\n",
    "    columns=cars_data2['FuelType'],\n",
    "    dropna=True\n",
    ")"
   ]
  },
  {
   "cell_type": "code",
   "execution_count": 10,
   "id": "88c6b2d6",
   "metadata": {},
   "outputs": [
    {
     "name": "stdout",
     "output_type": "stream",
     "text": [
      "FuelType   CNG  Diesel  Petrol\n",
      "Automatic                     \n",
      "0           15     144    1104\n",
      "1            0       0      73\n"
     ]
    }
   ],
   "source": [
    "print(automatic_fuel_type_crosstab)"
   ]
  },
  {
   "cell_type": "markdown",
   "id": "fcdc2fce",
   "metadata": {},
   "source": [
    "# From the above output\n",
    "\n",
    " All CNG and diesel cars have manual transmissions, with no automatic options available.\n",
    " \n",
    "Among petrol cars, a small percentage (73 out of 1177, or approximately 6.2%) have automatic transmissions.\n",
    "Automatic transmission is available only for petrol cars, not for CNG or diesel cars in this dataset."
   ]
  },
  {
   "cell_type": "code",
   "execution_count": 11,
   "id": "869773f7",
   "metadata": {},
   "outputs": [],
   "source": [
    "# Crosstab for 'Automatic' and 'FuelType' with normalization\n",
    "automatic_fuel_type_crosstab_joint_Probabiliy  = pd.crosstab(\n",
    "    index=cars_data2['Automatic'],\n",
    "    columns=cars_data2['FuelType'],\n",
    "    normalize=True,\n",
    "    dropna=True\n",
    ")"
   ]
  },
  {
   "cell_type": "code",
   "execution_count": 12,
   "id": "49c7a1cc",
   "metadata": {},
   "outputs": [
    {
     "name": "stdout",
     "output_type": "stream",
     "text": [
      "FuelType        CNG    Diesel    Petrol\n",
      "Automatic                              \n",
      "0          0.011228  0.107784  0.826347\n",
      "1          0.000000  0.000000  0.054641\n"
     ]
    }
   ],
   "source": [
    "print(automatic_fuel_type_crosstab_joint_Probabiliy)"
   ]
  },
  {
   "cell_type": "markdown",
   "id": "f0a19b32",
   "metadata": {},
   "source": [
    "# Manual Cars (Automatic = 0):::\n",
    "    1.1% are CNG, 10.8% are Diesel, and 82.6% are Petrol.\n",
    "\n",
    "# Automatic Cars (Automatic = 1):::\n",
    "    0% are CNG or Diesel, and 5.5% are Petrol.\n",
    "    \n",
    "# Overall, most cars with manual transmission are petrol (82.6%), and a small percentage (5.5%) of petrol cars have automatic transmission.\n",
    "\n",
    "\n",
    "\n",
    "\n",
    "\n",
    "\n"
   ]
  },
  {
   "cell_type": "code",
   "execution_count": 13,
   "id": "38732b56",
   "metadata": {},
   "outputs": [],
   "source": [
    "# Two way table  Marginal probability \n",
    "automatic_fuel_type_crosstab_Marginal_Probabiliy  = pd.crosstab(\n",
    "    index=cars_data2['Automatic'],\n",
    "    columns=cars_data2['FuelType'],\n",
    "    margins=True,\n",
    "    normalize=True,\n",
    "    dropna=True\n",
    ")\n"
   ]
  },
  {
   "cell_type": "code",
   "execution_count": 14,
   "id": "91ded86d",
   "metadata": {},
   "outputs": [
    {
     "name": "stdout",
     "output_type": "stream",
     "text": [
      "FuelType        CNG    Diesel    Petrol       All\n",
      "Automatic                                        \n",
      "0          0.011228  0.107784  0.826347  0.945359\n",
      "1          0.000000  0.000000  0.054641  0.054641\n",
      "All        0.011228  0.107784  0.880988  1.000000\n"
     ]
    }
   ],
   "source": [
    "print(automatic_fuel_type_crosstab_Marginal_Probabiliy)"
   ]
  },
  {
   "cell_type": "markdown",
   "id": "8d449322",
   "metadata": {},
   "source": [
    "# Manual Cars (Automatic = 0):\n",
    "1.1% are CNG, 10.8% are Diesel, and 82.6% are Petrol, making up 94.5% of the total cars.\n",
    "\n",
    "# Automatic Cars (Automatic = 1):\n",
    "0% are CNG or Diesel, and 5.5% are Petrol, making up 5.5% of the total cars.\n",
    "\n",
    "# Overall (All):\n",
    "1.1% of all cars are CNG, 10.8% are Diesel, and 88.1% are Petrol.\n",
    "\n",
    "Most cars are petrol (88.1%) and have manual transmission (94.5%). Only 5.5% of the cars have automatic transmission, and these are exclusively petrol.\n",
    "\n",
    "\n",
    "\n",
    "\n",
    "\n",
    "\n"
   ]
  },
  {
   "cell_type": "code",
   "execution_count": 15,
   "id": "02798b60",
   "metadata": {},
   "outputs": [],
   "source": [
    "# Two way table conditional probability\n",
    "# Given the type of gear box ,probability of different fueal type\n",
    "automatic_fuel_type_crosstab_Conditional_Probabiliy  = pd.crosstab(\n",
    "    index=cars_data2['Automatic'],\n",
    "    columns=cars_data2['FuelType'],\n",
    "    margins=True,\n",
    "    normalize='index',\n",
    "    dropna=True\n",
    ")"
   ]
  },
  {
   "cell_type": "code",
   "execution_count": 16,
   "id": "ae344db3",
   "metadata": {},
   "outputs": [
    {
     "name": "stdout",
     "output_type": "stream",
     "text": [
      "FuelType        CNG    Diesel    Petrol\n",
      "Automatic                              \n",
      "0          0.011876  0.114014  0.874109\n",
      "1          0.000000  0.000000  1.000000\n",
      "All        0.011228  0.107784  0.880988\n"
     ]
    }
   ],
   "source": [
    "print(automatic_fuel_type_crosstab_Conditional_Probabiliy )"
   ]
  },
  {
   "cell_type": "markdown",
   "id": "f8fe5ef5",
   "metadata": {},
   "source": [
    "# Manual Cars (Automatic = 0):\n",
    "1.2% are CNG, 11.4% are Diesel, and 87.4% are Petrol.\n",
    "\n",
    "# Automatic Cars (Automatic = 1):\n",
    "0% are CNG or Diesel, and 100% are Petrol.\n",
    "\n",
    "#Overall (All):\n",
    "1.1% of all cars are CNG, 10.8% are Diesel, and 88.1% are Petrol.\n",
    "\n",
    "This shows that all automatic cars are petrol, while manual cars have a mix of CNG, Diesel, and Petrol, with petrol being the most common fuel type in both manual and automatic cars.\n",
    "\n",
    "\n",
    "\n",
    "\n",
    "\n",
    "\n"
   ]
  },
  {
   "cell_type": "code",
   "execution_count": 17,
   "id": "56c5e8bb",
   "metadata": {},
   "outputs": [],
   "source": [
    "\n",
    "# Here I am changing Normalize to Column just to get the column sums as 1\n",
    "automatic_fuel_type_crosstab_Conditional__Probabiliy  = pd.crosstab(\n",
    "    index=cars_data2['Automatic'],\n",
    "    columns=cars_data2['FuelType'],\n",
    "    margins=True,\n",
    "    normalize='columns',\n",
    "    dropna=True\n",
    ")"
   ]
  },
  {
   "cell_type": "code",
   "execution_count": 18,
   "id": "d3a4d814",
   "metadata": {},
   "outputs": [
    {
     "name": "stdout",
     "output_type": "stream",
     "text": [
      "FuelType   CNG  Diesel    Petrol       All\n",
      "Automatic                                 \n",
      "0          1.0     1.0  0.937978  0.945359\n",
      "1          0.0     0.0  0.062022  0.054641\n"
     ]
    }
   ],
   "source": [
    "print(automatic_fuel_type_crosstab_Conditional__Probabiliy)"
   ]
  },
  {
   "cell_type": "markdown",
   "id": "a228ecf8",
   "metadata": {},
   "source": [
    "# CNG and Diesel Cars:\n",
    "100% of CNG and Diesel cars are manual (Automatic = 0).\n",
    "\n",
    "# Petrol Cars:\n",
    "93.8% of Petrol cars are manual (Automatic = 0).\n",
    "6.2% of Petrol cars are automatic (Automatic = 1).\n",
    "\n",
    "#Overall (All):\n",
    "94.5% of all cars are manual.\n",
    "5.5% of all cars are automatic.\n",
    "\n",
    "This indicates that CNG and Diesel cars are exclusively manual, while a small proportion of petrol cars are automatic. Most cars, regardless of fuel type, are manual.\n",
    "\n",
    "\n",
    "\n",
    "\n",
    "\n",
    "\n",
    "\n"
   ]
  },
  {
   "cell_type": "code",
   "execution_count": null,
   "id": "174fe47d",
   "metadata": {},
   "outputs": [],
   "source": []
  }
 ],
 "metadata": {
  "kernelspec": {
   "display_name": "Python 3 (ipykernel)",
   "language": "python",
   "name": "python3"
  },
  "language_info": {
   "codemirror_mode": {
    "name": "ipython",
    "version": 3
   },
   "file_extension": ".py",
   "mimetype": "text/x-python",
   "name": "python",
   "nbconvert_exporter": "python",
   "pygments_lexer": "ipython3",
   "version": "3.9.13"
  }
 },
 "nbformat": 4,
 "nbformat_minor": 5
}
