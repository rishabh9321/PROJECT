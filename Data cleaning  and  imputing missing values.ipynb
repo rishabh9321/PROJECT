{
 "cells": [
  {
   "cell_type": "code",
   "execution_count": 2,
   "id": "b67e6b16",
   "metadata": {},
   "outputs": [],
   "source": [
    "import pandas as pd\n",
    "import numpy as np"
   ]
  },
  {
   "cell_type": "code",
   "execution_count": 61,
   "id": "a3382afc",
   "metadata": {},
   "outputs": [],
   "source": [
    "cars_data=pd.read_csv(\"D:\\Toyota.csv\" ,index_col=0,na_values=[\"?\",\"???\",'????',])"
   ]
  },
  {
   "cell_type": "code",
   "execution_count": null,
   "id": "651fee42",
   "metadata": {},
   "outputs": [],
   "source": []
  },
  {
   "cell_type": "markdown",
   "id": "b4f8b1a7",
   "metadata": {},
   "source": [
    " <div style=\"color: red;\">CHECKING DATA TYPES OF EACH CPLUMNS.</div>                                              "
   ]
  },
  {
   "cell_type": "code",
   "execution_count": 62,
   "id": "16b4b032",
   "metadata": {},
   "outputs": [
    {
     "data": {
      "text/plain": [
       "Price          int64\n",
       "Age          float64\n",
       "KM            object\n",
       "FuelType      object\n",
       "HP           float64\n",
       "MetColor     float64\n",
       "Automatic      int64\n",
       "CC             int64\n",
       "Doors         object\n",
       "Weight         int64\n",
       "dtype: object"
      ]
     },
     "execution_count": 62,
     "metadata": {},
     "output_type": "execute_result"
    }
   ],
   "source": [
    "cars_data.dtypes"
   ]
  },
  {
   "cell_type": "code",
   "execution_count": null,
   "id": "c1322ebf",
   "metadata": {},
   "outputs": [],
   "source": []
  },
  {
   "cell_type": "markdown",
   "id": "2598072d",
   "metadata": {},
   "source": [
    "                          \n",
    "<div style=\"color: red;\"> CONCISE SUMMARY OF DATA FRAME</div>                                                    \n"
   ]
  },
  {
   "cell_type": "code",
   "execution_count": 63,
   "id": "8dccab8f",
   "metadata": {
    "scrolled": true
   },
   "outputs": [
    {
     "name": "stdout",
     "output_type": "stream",
     "text": [
      "<class 'pandas.core.frame.DataFrame'>\n",
      "Int64Index: 1436 entries, 0 to 1435\n",
      "Data columns (total 10 columns):\n",
      " #   Column     Non-Null Count  Dtype  \n",
      "---  ------     --------------  -----  \n",
      " 0   Price      1436 non-null   int64  \n",
      " 1   Age        1336 non-null   float64\n",
      " 2   KM         1436 non-null   object \n",
      " 3   FuelType   1336 non-null   object \n",
      " 4   HP         1430 non-null   float64\n",
      " 5   MetColor   1286 non-null   float64\n",
      " 6   Automatic  1436 non-null   int64  \n",
      " 7   CC         1436 non-null   int64  \n",
      " 8   Doors      1436 non-null   object \n",
      " 9   Weight     1436 non-null   int64  \n",
      "dtypes: float64(3), int64(4), object(3)\n",
      "memory usage: 123.4+ KB\n"
     ]
    }
   ],
   "source": [
    "cars_data.info()\n"
   ]
  },
  {
   "cell_type": "code",
   "execution_count": null,
   "id": "df70ac55",
   "metadata": {},
   "outputs": [],
   "source": []
  },
  {
   "cell_type": "markdown",
   "id": "a7ce6dab",
   "metadata": {},
   "source": [
    "\n",
    "<div style=\"color: red;\">UNIQUE ELEMENT OF COLUMNS .</div>\n",
    "\n",
    "\n",
    "\n",
    "\n"
   ]
  },
  {
   "cell_type": "code",
   "execution_count": 64,
   "id": "a80c3bbc",
   "metadata": {},
   "outputs": [
    {
     "name": "stdout",
     "output_type": "stream",
     "text": [
      "['1' '10000' '100123' ... '99865' '99971' '??']\n"
     ]
    }
   ],
   "source": [
    "print(np.unique(cars_data['KM']))"
   ]
  },
  {
   "cell_type": "markdown",
   "id": "1bab6f83",
   "metadata": {},
   "source": [
    "<div style=\"color: blue;\">KM Has special character to it as ??  Hence it has been read as object instead of int64 </div>"
   ]
  },
  {
   "cell_type": "code",
   "execution_count": 65,
   "id": "2739e9ff",
   "metadata": {},
   "outputs": [
    {
     "name": "stdout",
     "output_type": "stream",
     "text": [
      "[ 69.  71.  72.  73.  86.  90.  97.  98. 107. 110. 116. 192.  nan]\n"
     ]
    }
   ],
   "source": [
    "print(np.unique(cars_data['HP']))"
   ]
  },
  {
   "cell_type": "markdown",
   "id": "9a3468c2",
   "metadata": {},
   "source": [
    "<div style=\"color: blue;\">'HP' has been read as float</div> "
   ]
  },
  {
   "cell_type": "code",
   "execution_count": 12,
   "id": "6ca5a683",
   "metadata": {},
   "outputs": [
    {
     "name": "stdout",
     "output_type": "stream",
     "text": [
      "[ 0.  1. nan]\n"
     ]
    }
   ],
   "source": [
    "print(np.unique(cars_data['MetColor']))"
   ]
  },
  {
   "cell_type": "markdown",
   "id": "0d4034ad",
   "metadata": {},
   "source": [
    "<div style=\"color: blue;\">'MetColor' have been read as flot64 since it has values 0. & 1. </div>"
   ]
  },
  {
   "cell_type": "code",
   "execution_count": 13,
   "id": "7faed0b9",
   "metadata": {},
   "outputs": [
    {
     "name": "stdout",
     "output_type": "stream",
     "text": [
      "[0 1]\n"
     ]
    }
   ],
   "source": [
    "print(np.unique(cars_data['Automatic']))"
   ]
  },
  {
   "cell_type": "markdown",
   "id": "9f912eb9",
   "metadata": {},
   "source": [
    "<div style=\"color: blue;\">'Automatic' have been read as int64 since it has values 0 & 1 </div>"
   ]
  },
  {
   "cell_type": "code",
   "execution_count": 15,
   "id": "c25f4c37",
   "metadata": {},
   "outputs": [
    {
     "name": "stdout",
     "output_type": "stream",
     "text": [
      "['2' '3' '4' '5' 'five' 'four' 'three']\n"
     ]
    }
   ],
   "source": [
    "print(np.unique(cars_data['Doors']))"
   ]
  },
  {
   "cell_type": "markdown",
   "id": "d6bc5039",
   "metadata": {},
   "source": [
    "<div style=\"color: blue;\">'Doors' have been read as Object instead of int64 because of values 'five','four','three'.</div>"
   ]
  },
  {
   "cell_type": "markdown",
   "id": "6cdd2285",
   "metadata": {},
   "source": []
  },
  {
   "cell_type": "markdown",
   "id": "39597c74",
   "metadata": {},
   "source": [
    "<div style=\"color: red;\">CONVERTING VARIABLE'S DATA TYPES: </div>\n",
    "<div style=\"color: red;\">Converting 'MetColor' , Automatic to object data type </div>"
   ]
  },
  {
   "cell_type": "code",
   "execution_count": 19,
   "id": "5a8f9b2b",
   "metadata": {},
   "outputs": [],
   "source": [
    "cars_data['MetColor'] = cars_data['MetColor'].astype('object')\n",
    "cars_data['Automatic'] = cars_data['Automatic'].astype('object')"
   ]
  },
  {
   "cell_type": "code",
   "execution_count": null,
   "id": "a987eb23",
   "metadata": {},
   "outputs": [],
   "source": []
  },
  {
   "cell_type": "markdown",
   "id": "3e49cc1d",
   "metadata": {},
   "source": [
    "<div style=\"color: red;\">Rechecking the data type of variables </div>"
   ]
  },
  {
   "cell_type": "code",
   "execution_count": 66,
   "id": "24609d4e",
   "metadata": {},
   "outputs": [
    {
     "name": "stdout",
     "output_type": "stream",
     "text": [
      "<class 'pandas.core.frame.DataFrame'>\n",
      "Int64Index: 1436 entries, 0 to 1435\n",
      "Data columns (total 10 columns):\n",
      " #   Column     Non-Null Count  Dtype  \n",
      "---  ------     --------------  -----  \n",
      " 0   Price      1436 non-null   int64  \n",
      " 1   Age        1336 non-null   float64\n",
      " 2   KM         1436 non-null   object \n",
      " 3   FuelType   1336 non-null   object \n",
      " 4   HP         1430 non-null   float64\n",
      " 5   MetColor   1286 non-null   float64\n",
      " 6   Automatic  1436 non-null   int64  \n",
      " 7   CC         1436 non-null   int64  \n",
      " 8   Doors      1436 non-null   object \n",
      " 9   Weight     1436 non-null   int64  \n",
      "dtypes: float64(3), int64(4), object(3)\n",
      "memory usage: 123.4+ KB\n"
     ]
    }
   ],
   "source": [
    "cars_data.info()"
   ]
  },
  {
   "cell_type": "markdown",
   "id": "aac57ec5",
   "metadata": {},
   "source": []
  },
  {
   "cell_type": "markdown",
   "id": "2396c538",
   "metadata": {},
   "source": [
    "<div style=\"color: red;\">Cleaning column 'Doors' .</div>"
   ]
  },
  {
   "cell_type": "code",
   "execution_count": 67,
   "id": "21475810",
   "metadata": {},
   "outputs": [],
   "source": [
    "cars_data['Doors'].replace('three', 3, inplace=True)\n",
    "cars_data['Doors'].replace('four', 4, inplace=True)\n",
    "cars_data['Doors'].replace('five', 5, inplace=True)"
   ]
  },
  {
   "cell_type": "markdown",
   "id": "c7c7957c",
   "metadata": {},
   "source": [
    "<div style=\"color: red;\">Converting  'Doors' to int64 .</div>"
   ]
  },
  {
   "cell_type": "code",
   "execution_count": 68,
   "id": "254968cb",
   "metadata": {},
   "outputs": [],
   "source": [
    "cars_data['Doors'] = cars_data['Doors'].astype('int64')"
   ]
  },
  {
   "cell_type": "markdown",
   "id": "293ba318",
   "metadata": {},
   "source": [
    "\n"
   ]
  },
  {
   "cell_type": "markdown",
   "id": "62449ba1",
   "metadata": {},
   "source": []
  },
  {
   "cell_type": "markdown",
   "id": "f1213b2c",
   "metadata": {},
   "source": [
    "<div style=\"color: red;\">DETECT MISSING VALUES.</div>"
   ]
  },
  {
   "cell_type": "code",
   "execution_count": 69,
   "id": "9da18d00",
   "metadata": {},
   "outputs": [
    {
     "data": {
      "text/plain": [
       "Price          0\n",
       "Age          100\n",
       "KM             0\n",
       "FuelType     100\n",
       "HP             6\n",
       "MetColor     150\n",
       "Automatic      0\n",
       "CC             0\n",
       "Doors          0\n",
       "Weight         0\n",
       "dtype: int64"
      ]
     },
     "execution_count": 69,
     "metadata": {},
     "output_type": "execute_result"
    }
   ],
   "source": [
    "cars_data.isnull().sum()"
   ]
  },
  {
   "cell_type": "markdown",
   "id": "4b44e9a0",
   "metadata": {},
   "source": []
  },
  {
   "cell_type": "markdown",
   "id": "6a321c54",
   "metadata": {},
   "source": [
    "\n",
    "<div style=\"color: red;\">>>>>>>>>>>>>>>>>>>>>>>>>>>>>>>>>>>>     DEALING WITH MISSING VALUES </div>"
   ]
  },
  {
   "cell_type": "markdown",
   "id": "780e3f49",
   "metadata": {},
   "source": [
    "<div style=\"color: red;\">Creating copy of original data</div>"
   ]
  },
  {
   "cell_type": "code",
   "execution_count": 70,
   "id": "2e0f322a",
   "metadata": {},
   "outputs": [],
   "source": [
    "cars_data2 = cars_data.copy()"
   ]
  },
  {
   "cell_type": "markdown",
   "id": "dcb4d92e",
   "metadata": {},
   "source": [
    "<div style=\"color: red;\">subsetting the rows that have one or more missing values </div>"
   ]
  },
  {
   "cell_type": "code",
   "execution_count": 71,
   "id": "10f81e11",
   "metadata": {},
   "outputs": [],
   "source": [
    "missing = cars_data2[cars_data2.isnull().any(axis=1)]"
   ]
  },
  {
   "cell_type": "code",
   "execution_count": 72,
   "id": "81cf9837",
   "metadata": {},
   "outputs": [
    {
     "name": "stdout",
     "output_type": "stream",
     "text": [
      "      Price   Age     KM FuelType    HP  MetColor  Automatic    CC  Doors  \\\n",
      "2     13950  24.0  41711   Diesel  90.0       NaN          0  2000      3   \n",
      "6     16900  27.0     ??   Diesel   NaN       NaN          0  2000      3   \n",
      "7     18600  30.0  75889      NaN  90.0       1.0          0  2000      3   \n",
      "9     12950  23.0  71138   Diesel   NaN       NaN          0  1900      3   \n",
      "15    22000  28.0  18739   Petrol   NaN       0.0          0  1800      3   \n",
      "...     ...   ...    ...      ...   ...       ...        ...   ...    ...   \n",
      "1427   8950   NaN  29000   Petrol  86.0       1.0          1  1300      3   \n",
      "1428   8450  72.0     ??   Petrol  86.0       NaN          0  1300      3   \n",
      "1431   7500   NaN  20544   Petrol  86.0       1.0          0  1300      3   \n",
      "1433   8500   NaN  17016   Petrol  86.0       0.0          0  1300      3   \n",
      "1434   7250  70.0     ??      NaN  86.0       1.0          0  1300      3   \n",
      "\n",
      "      Weight  \n",
      "2       1165  \n",
      "6       1245  \n",
      "7       1245  \n",
      "9       1105  \n",
      "15      1185  \n",
      "...      ...  \n",
      "1427    1045  \n",
      "1428    1015  \n",
      "1431    1025  \n",
      "1433    1015  \n",
      "1434    1015  \n",
      "\n",
      "[328 rows x 10 columns]\n"
     ]
    }
   ],
   "source": [
    "print(missing)"
   ]
  },
  {
   "cell_type": "code",
   "execution_count": 80,
   "id": "7d8c02a6",
   "metadata": {},
   "outputs": [],
   "source": [
    "cars_data2['KM'] = cars_data2['KM'].replace('??', np.nan)"
   ]
  },
  {
   "cell_type": "markdown",
   "id": "208aa27c",
   "metadata": {},
   "source": []
  },
  {
   "cell_type": "markdown",
   "id": "33c12031",
   "metadata": {},
   "source": []
  },
  {
   "cell_type": "markdown",
   "id": "a0e42e4e",
   "metadata": {},
   "source": []
  },
  {
   "cell_type": "markdown",
   "id": "9a8896ee",
   "metadata": {},
   "source": [
    "<div style=\"color: red;\">>>>>>>>>>>>>>>>>>>>>>>>>>>>IMPUTING MISSING VALUES  .</div>"
   ]
  },
  {
   "cell_type": "markdown",
   "id": "4b56b3eb",
   "metadata": {},
   "source": [
    "<div style=\"color: red;\">STATISTICAL SUMMARY OF DATA.</div>"
   ]
  },
  {
   "cell_type": "code",
   "execution_count": 81,
   "id": "a10f1032",
   "metadata": {},
   "outputs": [
    {
     "data": {
      "text/html": [
       "<div>\n",
       "<style scoped>\n",
       "    .dataframe tbody tr th:only-of-type {\n",
       "        vertical-align: middle;\n",
       "    }\n",
       "\n",
       "    .dataframe tbody tr th {\n",
       "        vertical-align: top;\n",
       "    }\n",
       "\n",
       "    .dataframe thead th {\n",
       "        text-align: right;\n",
       "    }\n",
       "</style>\n",
       "<table border=\"1\" class=\"dataframe\">\n",
       "  <thead>\n",
       "    <tr style=\"text-align: right;\">\n",
       "      <th></th>\n",
       "      <th>Price</th>\n",
       "      <th>Age</th>\n",
       "      <th>HP</th>\n",
       "      <th>MetColor</th>\n",
       "      <th>Automatic</th>\n",
       "      <th>CC</th>\n",
       "      <th>Doors</th>\n",
       "      <th>Weight</th>\n",
       "    </tr>\n",
       "  </thead>\n",
       "  <tbody>\n",
       "    <tr>\n",
       "      <th>count</th>\n",
       "      <td>1436.000000</td>\n",
       "      <td>1436.000000</td>\n",
       "      <td>1436.000000</td>\n",
       "      <td>1286.000000</td>\n",
       "      <td>1436.000000</td>\n",
       "      <td>1436.000000</td>\n",
       "      <td>1436.000000</td>\n",
       "      <td>1436.00000</td>\n",
       "    </tr>\n",
       "    <tr>\n",
       "      <th>mean</th>\n",
       "      <td>10730.824513</td>\n",
       "      <td>55.672156</td>\n",
       "      <td>101.513928</td>\n",
       "      <td>0.674961</td>\n",
       "      <td>0.055710</td>\n",
       "      <td>1566.827994</td>\n",
       "      <td>4.033426</td>\n",
       "      <td>1072.45961</td>\n",
       "    </tr>\n",
       "    <tr>\n",
       "      <th>std</th>\n",
       "      <td>3626.964585</td>\n",
       "      <td>17.930380</td>\n",
       "      <td>14.747603</td>\n",
       "      <td>0.468572</td>\n",
       "      <td>0.229441</td>\n",
       "      <td>187.182436</td>\n",
       "      <td>0.952677</td>\n",
       "      <td>52.64112</td>\n",
       "    </tr>\n",
       "    <tr>\n",
       "      <th>min</th>\n",
       "      <td>4350.000000</td>\n",
       "      <td>1.000000</td>\n",
       "      <td>69.000000</td>\n",
       "      <td>0.000000</td>\n",
       "      <td>0.000000</td>\n",
       "      <td>1300.000000</td>\n",
       "      <td>2.000000</td>\n",
       "      <td>1000.00000</td>\n",
       "    </tr>\n",
       "    <tr>\n",
       "      <th>25%</th>\n",
       "      <td>8450.000000</td>\n",
       "      <td>44.000000</td>\n",
       "      <td>90.000000</td>\n",
       "      <td>0.000000</td>\n",
       "      <td>0.000000</td>\n",
       "      <td>1400.000000</td>\n",
       "      <td>3.000000</td>\n",
       "      <td>1040.00000</td>\n",
       "    </tr>\n",
       "    <tr>\n",
       "      <th>50%</th>\n",
       "      <td>9900.000000</td>\n",
       "      <td>59.000000</td>\n",
       "      <td>110.000000</td>\n",
       "      <td>1.000000</td>\n",
       "      <td>0.000000</td>\n",
       "      <td>1600.000000</td>\n",
       "      <td>4.000000</td>\n",
       "      <td>1070.00000</td>\n",
       "    </tr>\n",
       "    <tr>\n",
       "      <th>75%</th>\n",
       "      <td>11950.000000</td>\n",
       "      <td>68.000000</td>\n",
       "      <td>110.000000</td>\n",
       "      <td>1.000000</td>\n",
       "      <td>0.000000</td>\n",
       "      <td>1600.000000</td>\n",
       "      <td>5.000000</td>\n",
       "      <td>1085.00000</td>\n",
       "    </tr>\n",
       "    <tr>\n",
       "      <th>max</th>\n",
       "      <td>32500.000000</td>\n",
       "      <td>80.000000</td>\n",
       "      <td>192.000000</td>\n",
       "      <td>1.000000</td>\n",
       "      <td>1.000000</td>\n",
       "      <td>2000.000000</td>\n",
       "      <td>5.000000</td>\n",
       "      <td>1615.00000</td>\n",
       "    </tr>\n",
       "  </tbody>\n",
       "</table>\n",
       "</div>"
      ],
      "text/plain": [
       "              Price          Age           HP     MetColor    Automatic  \\\n",
       "count   1436.000000  1436.000000  1436.000000  1286.000000  1436.000000   \n",
       "mean   10730.824513    55.672156   101.513928     0.674961     0.055710   \n",
       "std     3626.964585    17.930380    14.747603     0.468572     0.229441   \n",
       "min     4350.000000     1.000000    69.000000     0.000000     0.000000   \n",
       "25%     8450.000000    44.000000    90.000000     0.000000     0.000000   \n",
       "50%     9900.000000    59.000000   110.000000     1.000000     0.000000   \n",
       "75%    11950.000000    68.000000   110.000000     1.000000     0.000000   \n",
       "max    32500.000000    80.000000   192.000000     1.000000     1.000000   \n",
       "\n",
       "                CC        Doors      Weight  \n",
       "count  1436.000000  1436.000000  1436.00000  \n",
       "mean   1566.827994     4.033426  1072.45961  \n",
       "std     187.182436     0.952677    52.64112  \n",
       "min    1300.000000     2.000000  1000.00000  \n",
       "25%    1400.000000     3.000000  1040.00000  \n",
       "50%    1600.000000     4.000000  1070.00000  \n",
       "75%    1600.000000     5.000000  1085.00000  \n",
       "max    2000.000000     5.000000  1615.00000  "
      ]
     },
     "execution_count": 81,
     "metadata": {},
     "output_type": "execute_result"
    }
   ],
   "source": [
    "cars_data2.describe()"
   ]
  },
  {
   "cell_type": "markdown",
   "id": "001a846d",
   "metadata": {},
   "source": []
  },
  {
   "cell_type": "markdown",
   "id": "12aa20e6",
   "metadata": {},
   "source": [
    "<div style=\"color: red;\">\n",
    "    Imputing missing value of the \n",
    "    <span style=\"color: green;\">Age</span> variable.\n",
    "</div>"
   ]
  },
  {
   "cell_type": "code",
   "execution_count": 82,
   "id": "c0b0ac06",
   "metadata": {},
   "outputs": [],
   "source": [
    "cars_data2['Age'].fillna(cars_data2['Age'].mean(), inplace=True)\n"
   ]
  },
  {
   "cell_type": "markdown",
   "id": "df5c4884",
   "metadata": {},
   "source": [
    "<div style=\"color: red;\">\n",
    "    Imputing missing value of the \n",
    "    <span style=\"color: green;\">KM</span> variable.\n",
    "</div>"
   ]
  },
  {
   "cell_type": "code",
   "execution_count": 83,
   "id": "8251bef2",
   "metadata": {},
   "outputs": [],
   "source": [
    "cars_data2['KM'].fillna(cars_data2['KM'].median(), inplace=True)\n"
   ]
  },
  {
   "cell_type": "markdown",
   "id": "9eaf02a8",
   "metadata": {},
   "source": [
    "<div style=\"color: red;\">\n",
    "    Imputing missing value of the \n",
    "    <span style=\"color: green;\">HP</span> variable.\n",
    "</div>"
   ]
  },
  {
   "cell_type": "code",
   "execution_count": 84,
   "id": "d5f7eea9",
   "metadata": {},
   "outputs": [],
   "source": [
    "cars_data2['HP'].fillna(cars_data2['HP'].mean(), inplace=True)\n"
   ]
  },
  {
   "cell_type": "raw",
   "id": "ad252621",
   "metadata": {},
   "source": []
  },
  {
   "cell_type": "code",
   "execution_count": 85,
   "id": "269c63c0",
   "metadata": {},
   "outputs": [
    {
     "data": {
      "text/plain": [
       "Price          0\n",
       "Age            0\n",
       "KM             0\n",
       "FuelType     100\n",
       "HP             0\n",
       "MetColor     150\n",
       "Automatic      0\n",
       "CC             0\n",
       "Doors          0\n",
       "Weight         0\n",
       "dtype: int64"
      ]
     },
     "execution_count": 85,
     "metadata": {},
     "output_type": "execute_result"
    }
   ],
   "source": [
    "cars_data2.isnull().sum()"
   ]
  },
  {
   "cell_type": "markdown",
   "id": "84c94b3c",
   "metadata": {},
   "source": []
  },
  {
   "cell_type": "markdown",
   "id": "b4974a2d",
   "metadata": {},
   "source": [
    "<div style=\"color: red;\">\n",
    "    Imputing missing value of the \n",
    "    <span style=\"color: green;\">FuelType</span> variable.\n",
    "</div>"
   ]
  },
  {
   "cell_type": "code",
   "execution_count": 88,
   "id": "19a2ae9a",
   "metadata": {},
   "outputs": [],
   "source": [
    "cars_data2['FuelType'].fillna(cars_data2['FuelType'].value_counts().index[0],inplace= True)"
   ]
  },
  {
   "cell_type": "markdown",
   "id": "9e7ac9a9",
   "metadata": {},
   "source": []
  },
  {
   "cell_type": "markdown",
   "id": "e2a3e0d0",
   "metadata": {},
   "source": [
    "<div style=\"color: red;\">\n",
    "    Imputing missing value of the \n",
    "    <span style=\"color: green;\">MetColor</span> variable.\n",
    "</div>"
   ]
  },
  {
   "cell_type": "code",
   "execution_count": 89,
   "id": "67efd4bc",
   "metadata": {},
   "outputs": [],
   "source": [
    "cars_data2['MetColor'].fillna(cars_data2['MetColor'].mode()[0],inplace= True)"
   ]
  },
  {
   "cell_type": "markdown",
   "id": "f184141b",
   "metadata": {},
   "source": []
  },
  {
   "cell_type": "markdown",
   "id": "bb2e3f35",
   "metadata": {},
   "source": [
    "\n",
    "<div style=\"color: green;\">\n",
    "    END RESULT:: \n",
    "    <span style=\"color: red;\">Checking for missing values </span>\n",
    "</div>"
   ]
  },
  {
   "cell_type": "code",
   "execution_count": 90,
   "id": "71e8cae0",
   "metadata": {},
   "outputs": [
    {
     "data": {
      "text/plain": [
       "Price        0\n",
       "Age          0\n",
       "KM           0\n",
       "FuelType     0\n",
       "HP           0\n",
       "MetColor     0\n",
       "Automatic    0\n",
       "CC           0\n",
       "Doors        0\n",
       "Weight       0\n",
       "dtype: int64"
      ]
     },
     "execution_count": 90,
     "metadata": {},
     "output_type": "execute_result"
    }
   ],
   "source": [
    "cars_data2.isnull().sum()"
   ]
  },
  {
   "cell_type": "code",
   "execution_count": null,
   "id": "d8758d4e",
   "metadata": {},
   "outputs": [],
   "source": []
  }
 ],
 "metadata": {
  "kernelspec": {
   "display_name": "Python 3 (ipykernel)",
   "language": "python",
   "name": "python3"
  },
  "language_info": {
   "codemirror_mode": {
    "name": "ipython",
    "version": 3
   },
   "file_extension": ".py",
   "mimetype": "text/x-python",
   "name": "python",
   "nbconvert_exporter": "python",
   "pygments_lexer": "ipython3",
   "version": "3.9.13"
  }
 },
 "nbformat": 4,
 "nbformat_minor": 5
}
